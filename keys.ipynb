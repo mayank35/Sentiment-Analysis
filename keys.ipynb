{
 "cells": [
  {
   "cell_type": "code",
   "execution_count": null,
   "id": "437d72c7",
   "metadata": {},
   "outputs": [],
   "source": [
    "consumer_key = \"hkhGukbG78oHVKD%khk\"\n",
    "consumer_secret = \"gwoHfLvmd7paYn4U8PQQrcu\"\n",
    "access_token = \"9548508537475745?KtKlM76GqwrXXoip\"\n",
    "access_token_secret = \"hkn*blj6gVkoiEkjhblTjgkjUURDJgvjtdnvnjfrb\""
   ]
  }
 ],
 "metadata": {
  "kernelspec": {
   "display_name": "Python 3",
   "language": "python",
   "name": "python3"
  },
  "language_info": {
   "codemirror_mode": {
    "name": "ipython",
    "version": 3
   },
   "file_extension": ".py",
   "mimetype": "text/x-python",
   "name": "python",
   "nbconvert_exporter": "python",
   "pygments_lexer": "ipython3",
   "version": "3.8.8"
  }
 },
 "nbformat": 4,
 "nbformat_minor": 5
}
